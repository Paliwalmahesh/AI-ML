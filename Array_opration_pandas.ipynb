{
 "cells": [
  {
   "cell_type": "code",
   "execution_count": 12,
   "id": "transsexual-arabic",
   "metadata": {},
   "outputs": [
    {
     "name": "stdout",
     "output_type": "stream",
     "text": [
      "list:\n",
      " [1, 2, 3, 4, 5, 6]\n",
      "<class 'list'>\n",
      "DataFrame1:\n",
      "    0\n",
      "0  1\n",
      "1  2\n",
      "2  3\n",
      "3  4\n",
      "4  5\n",
      "5  6\n",
      "<class 'pandas.core.frame.DataFrame'>\n"
     ]
    }
   ],
   "source": [
    "import pandas as pd \n",
    "data1=[1,2,3,4,5,6]  \n",
    "print(\"list:\\n\",data1)\n",
    "print(type(data1))\n",
    "srz=pd.Series(data1)#Series\n",
    "print(\"Series:\\n\",srz)\n",
    "print(type(srz))"
   ]
  },
  {
   "cell_type": "code",
   "execution_count": 13,
   "id": "framed-operations",
   "metadata": {},
   "outputs": [
    {
     "name": "stdout",
     "output_type": "stream",
     "text": [
      "dictionary:\n",
      " {'division': ['1', '2', '5', '6'], 'student': [67, 65, 45, 20]}\n",
      "<class 'list'>\n",
      "DataFrame1:\n",
      "   division  student\n",
      "1        1       67\n",
      "2        2       65\n",
      "3        5       45\n",
      "4        6       20\n",
      "<class 'pandas.core.frame.DataFrame'>\n"
     ]
    }
   ],
   "source": [
    "import pandas as pd \n",
    "dict1={'division':['1','2','5','6'],'student':[67,65,45,20]}\n",
    "print(\"dictionary:\\n\",dict1)\n",
    "print(type(data1))\n",
    "DataFrame1=pd.DataFrame(dict1,index=[1,2,3,4])#DataFrame\n",
    "print(\"DataFrame1:\\n\",DataFrame1)\n",
    "print(type(DataFrame1))"
   ]
  },
  {
   "cell_type": "code",
   "execution_count": 11,
   "id": "visible-father",
   "metadata": {},
   "outputs": [
    {
     "name": "stdout",
     "output_type": "stream",
     "text": [
      "dictionary:\n",
      " {'division': ['1', '2', '5', '6'], 'student': [67, 65, 45, 20]}\n",
      "<class 'list'>\n",
      "DataFrame1:\n",
      "   division  student\n",
      "1        1       67\n",
      "2        2       65\n",
      "3        5       45\n",
      "4        6       20\n",
      "<class 'pandas.core.frame.DataFrame'>\n"
     ]
    }
   ],
   "source": []
  },
  {
   "cell_type": "code",
   "execution_count": null,
   "id": "likely-creek",
   "metadata": {},
   "outputs": [],
   "source": []
  }
 ],
 "metadata": {
  "kernelspec": {
   "display_name": "Python 3",
   "language": "python",
   "name": "python3"
  },
  "language_info": {
   "codemirror_mode": {
    "name": "ipython",
    "version": 3
   },
   "file_extension": ".py",
   "mimetype": "text/x-python",
   "name": "python",
   "nbconvert_exporter": "python",
   "pygments_lexer": "ipython3",
   "version": "3.8.5"
  }
 },
 "nbformat": 4,
 "nbformat_minor": 5
}
