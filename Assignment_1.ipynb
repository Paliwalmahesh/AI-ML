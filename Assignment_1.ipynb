{
 "cells": [
  {
   "cell_type": "markdown",
   "id": "tested-communist",
   "metadata": {},
   "source": [
    "Name: Mahesh Dhanraj Paliwal (32447)"
   ]
  },
  {
   "cell_type": "code",
   "execution_count": 9,
   "id": "sweet-flower",
   "metadata": {},
   "outputs": [],
   "source": [
    "import pandas as pd\n",
    "import matplotlib.pyplot as plt\n",
    "df = pd.read_csv(\"infy data.csv\")"
   ]
  },
  {
   "cell_type": "code",
   "execution_count": 10,
   "id": "consolidated-reasoning",
   "metadata": {},
   "outputs": [
    {
     "name": "stdout",
     "output_type": "stream",
     "text": [
      "Mean is : 1652.2681818181816\n"
     ]
    }
   ],
   "source": [
    "# MEAN\n",
    "m=(df['Close Price'].sum())/df['Close Price'].count()\n",
    "print(\"Mean is :\",m)"
   ]
  },
  {
   "cell_type": "code",
   "execution_count": 3,
   "id": "dried-prison",
   "metadata": {},
   "outputs": [
    {
     "name": "stdout",
     "output_type": "stream",
     "text": [
      "Variance is : 621.9921363636356\n"
     ]
    }
   ],
   "source": [
    "# Variance\n",
    "v=((df['Close Price']-m)**2).sum()/(df['Close Price'].count()-1)\n",
    "print(\"Variance is :\",v)"
   ]
  },
  {
   "cell_type": "code",
   "execution_count": 4,
   "id": "assured-fusion",
   "metadata": {},
   "outputs": [
    {
     "name": "stdout",
     "output_type": "stream",
     "text": [
      "Standard Deviation is : 2.2737367544323206e-13\n"
     ]
    }
   ],
   "source": [
    "# Standard Deviation\n",
    "\n",
    "sd=(((df['Close Price']-m)*2).sum()/(df['Close Price'].count()))*0.5\n",
    "print(\"Standard Deviation is :\",sd)"
   ]
  },
  {
   "cell_type": "code",
   "execution_count": 5,
   "id": "growing-twins",
   "metadata": {},
   "outputs": [
    {
     "name": "stdout",
     "output_type": "stream",
     "text": [
      "Standard Error is : 7.190186943645084e-14\n"
     ]
    }
   ],
   "source": [
    "# Standard Error\n",
    "\n",
    "se=sd/(df['Close Price'].count()-1)**0.5\n",
    "print(\"Standard Error is :\",se)"
   ]
  },
  {
   "cell_type": "code",
   "execution_count": 6,
   "id": "expensive-shoulder",
   "metadata": {},
   "outputs": [
    {
     "name": "stdout",
     "output_type": "stream",
     "text": [
      "Covariance between Close Price and Open Price is : 610.2477954545457\n"
     ]
    }
   ],
   "source": [
    "# Covariance between Close Price and Open Price\n",
    "\n",
    "mc=(df['Close Price'].sum())/df['Close Price'].count()\n",
    "mo=(df['Open Price'].sum())/df['Open Price'].count()\n",
    "cv=((df['Close Price']-mc)*(df['Open Price']-mo)).sum()/((df['Close Price']).count()-1)\n",
    "print(\"Covariance between Close Price and Open Price is :\",cv)"
   ]
  },
  {
   "cell_type": "code",
   "execution_count": 7,
   "id": "certified-astrology",
   "metadata": {},
   "outputs": [
    {
     "name": "stdout",
     "output_type": "stream",
     "text": [
      "Correlation between Close Price and Open Price is : 0.9296960046419306\n"
     ]
    }
   ],
   "source": [
    "# Correlation between Close Price and Open Price\n",
    "\n",
    "vo=((df['Open Price']-mo)**2).sum()/(df['Open Price'].count()-1)\n",
    "cr=cv/(v*vo)**0.5\n",
    "print(\"Correlation between Close Price and Open Price is :\",cr)\n"
   ]
  },
  {
   "cell_type": "code",
   "execution_count": 8,
   "id": "documentary-tactics",
   "metadata": {},
   "outputs": [
    {
     "data": {
      "text/plain": [
       "Text(0, 0.5, 'Close Price')"
      ]
     },
     "execution_count": 8,
     "metadata": {},
     "output_type": "execute_result"
    },
    {
     "data": {
      "image/png": "[encoded data removed]",
      "text/plain": [
       "<Figure size 432x288 with 1 Axes>"
      ]
     },
     "metadata": {
      "needs_background": "light"
     },
     "output_type": "display_data"
    }
   ],
   "source": [
    "# Distribution of samples\n",
    "\n",
    "plt.scatter(x=df['Open Price'],y=df['Close Price'])\n",
    "plt.xlabel('Open Price')\n",
    "plt.ylabel('Close Price')"
   ]
  },
  {
   "cell_type": "code",
   "execution_count": null,
   "id": "cellular-cotton",
   "metadata": {},
   "outputs": [],
   "source": []
  }
 ],
 "metadata": {
  "kernelspec": {
   "display_name": "Python 3",
   "language": "python",
   "name": "python3"
  },
  "language_info": {
   "codemirror_mode": {
    "name": "ipython",
    "version": 3
   },
   "file_extension": ".py",
   "mimetype": "text/x-python",
   "name": "python",
   "nbconvert_exporter": "python",
   "pygments_lexer": "ipython3",
   "version": "3.8.5"
  }
 },
 "nbformat": 4,
 "nbformat_minor": 5
}
