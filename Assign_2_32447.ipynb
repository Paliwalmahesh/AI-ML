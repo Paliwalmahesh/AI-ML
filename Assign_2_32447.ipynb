{
 "cells": [
  {
   "cell_type": "markdown",
   "id": "enhanced-sussex",
   "metadata": {},
   "source": [
    "Name: Mahesh Dhanraj Paliwal (32447)"
   ]
  },
  {
   "cell_type": "code",
   "execution_count": 11,
   "id": "parental-antique",
   "metadata": {},
   "outputs": [],
   "source": [
    "import pandas as pd\n",
    "import numpy as np\n",
    "import matplotlib.pyplot as plt\n",
    "import statistics as st\n",
    "%matplotlib inline"
   ]
  },
  {
   "cell_type": "code",
   "execution_count": 5,
   "id": "fitting-quilt",
   "metadata": {},
   "outputs": [],
   "source": [
    "df=pd.read_csv(\"StudentsPerformance.csv\")"
   ]
  },
  {
   "cell_type": "code",
   "execution_count": 6,
   "id": "continuing-testing",
   "metadata": {},
   "outputs": [
    {
     "data": {
      "text/html": [
       "<div>\n",
       "<style scoped>\n",
       "    .dataframe tbody tr th:only-of-type {\n",
       "        vertical-align: middle;\n",
       "    }\n",
       "\n",
       "    .dataframe tbody tr th {\n",
       "        vertical-align: top;\n",
       "    }\n",
       "\n",
       "    .dataframe thead th {\n",
       "        text-align: right;\n",
       "    }\n",
       "</style>\n",
       "<table border=\"1\" class=\"dataframe\">\n",
       "  <thead>\n",
       "    <tr style=\"text-align: right;\">\n",
       "      <th></th>\n",
       "      <th>gender</th>\n",
       "      <th>race/ethnicity</th>\n",
       "      <th>parental level of education</th>\n",
       "      <th>lunch</th>\n",
       "      <th>test preparation course</th>\n",
       "      <th>math score</th>\n",
       "      <th>reading score</th>\n",
       "      <th>writing score</th>\n",
       "    </tr>\n",
       "  </thead>\n",
       "  <tbody>\n",
       "    <tr>\n",
       "      <th>0</th>\n",
       "      <td>female</td>\n",
       "      <td>group B</td>\n",
       "      <td>bachelor's degree</td>\n",
       "      <td>standard</td>\n",
       "      <td>none</td>\n",
       "      <td>72</td>\n",
       "      <td>72</td>\n",
       "      <td>74</td>\n",
       "    </tr>\n",
       "    <tr>\n",
       "      <th>1</th>\n",
       "      <td>female</td>\n",
       "      <td>group C</td>\n",
       "      <td>some college</td>\n",
       "      <td>standard</td>\n",
       "      <td>completed</td>\n",
       "      <td>69</td>\n",
       "      <td>90</td>\n",
       "      <td>88</td>\n",
       "    </tr>\n",
       "    <tr>\n",
       "      <th>2</th>\n",
       "      <td>female</td>\n",
       "      <td>group B</td>\n",
       "      <td>master's degree</td>\n",
       "      <td>standard</td>\n",
       "      <td>none</td>\n",
       "      <td>90</td>\n",
       "      <td>95</td>\n",
       "      <td>93</td>\n",
       "    </tr>\n",
       "    <tr>\n",
       "      <th>3</th>\n",
       "      <td>male</td>\n",
       "      <td>group A</td>\n",
       "      <td>associate's degree</td>\n",
       "      <td>free/reduced</td>\n",
       "      <td>none</td>\n",
       "      <td>47</td>\n",
       "      <td>57</td>\n",
       "      <td>44</td>\n",
       "    </tr>\n",
       "    <tr>\n",
       "      <th>4</th>\n",
       "      <td>male</td>\n",
       "      <td>group C</td>\n",
       "      <td>some college</td>\n",
       "      <td>standard</td>\n",
       "      <td>none</td>\n",
       "      <td>76</td>\n",
       "      <td>78</td>\n",
       "      <td>75</td>\n",
       "    </tr>\n",
       "  </tbody>\n",
       "</table>\n",
       "</div>"
      ],
      "text/plain": [
       "   gender race/ethnicity parental level of education         lunch  \\\n",
       "0  female        group B           bachelor's degree      standard   \n",
       "1  female        group C                some college      standard   \n",
       "2  female        group B             master's degree      standard   \n",
       "3    male        group A          associate's degree  free/reduced   \n",
       "4    male        group C                some college      standard   \n",
       "\n",
       "  test preparation course  math score  reading score  writing score  \n",
       "0                    none          72             72             74  \n",
       "1               completed          69             90             88  \n",
       "2                    none          90             95             93  \n",
       "3                    none          47             57             44  \n",
       "4                    none          76             78             75  "
      ]
     },
     "execution_count": 6,
     "metadata": {},
     "output_type": "execute_result"
    }
   ],
   "source": [
    "df.head()"
   ]
  },
  {
   "cell_type": "code",
   "execution_count": 7,
   "id": "medical-importance",
   "metadata": {},
   "outputs": [],
   "source": [
    "df.insert(0, 'ID', range(10101, 10101 + len(df)))"
   ]
  },
  {
   "cell_type": "code",
   "execution_count": 8,
   "id": "single-bonus",
   "metadata": {},
   "outputs": [],
   "source": [
    "df['total score']=df['math score']+df['reading score']+df['writing score']"
   ]
  },
  {
   "cell_type": "code",
   "execution_count": 9,
   "id": "reserved-extension",
   "metadata": {},
   "outputs": [
    {
     "name": "stdout",
     "output_type": "stream",
     "text": [
      "Mean               :  66.089\n",
      "Standard Deviation :  15.163080096009452\n",
      "Min math score     :  0\n",
      "Max math score     :  100\n"
     ]
    }
   ],
   "source": [
    "mean = df['math score'].mean()\n",
    "print(\"Mean               : \",mean)\n",
    "sd = st.stdev(df['math score'])\n",
    "print(\"Standard Deviation : \",sd)\n",
    "print(\"Min math score     : \", df['math score'].min())\n",
    "print(\"Max math score     : \", df['math score'].max())"
   ]
  },
  {
   "cell_type": "code",
   "execution_count": 13,
   "id": "executed-printer",
   "metadata": {},
   "outputs": [
    {
     "data": {
      "text/plain": [
       "Text(0.5, 0, 'Z score')"
      ]
     },
     "execution_count": 13,
     "metadata": {},
     "output_type": "execute_result"
    },
    {
     "data": {
      "image/png": "[encoded data removed]",
      "text/plain": [
       "<Figure size 432x288 with 1 Axes>"
      ]
     },
     "metadata": {
      "needs_background": "light"
     },
     "output_type": "display_data"
    }
   ],
   "source": [
    "from scipy.stats import norm\n",
    "x=np.array(df['math score'])\n",
    "x.sort()\n",
    "z=(x-mean)/sd\n",
    "plt.title('Normal Distribution of Math score')\n",
    "plt.plot(z, norm.pdf(x, mean, sd), color='black')\n",
    "plt.xlabel('Z score')"
   ]
  },
  {
   "cell_type": "code",
   "execution_count": 15,
   "id": "irish-version",
   "metadata": {},
   "outputs": [],
   "source": [
    "y=np.array(df['total score'])\n",
    "mean1 = df['total score'].mean()\n",
    "sd1 = st.stdev(df['total score'])"
   ]
  },
  {
   "cell_type": "code",
   "execution_count": 19,
   "id": "clean-shore",
   "metadata": {},
   "outputs": [
    {
     "name": "stdout",
     "output_type": "stream",
     "text": [
      "Skewness of total score : -0.0944282497849649\n"
     ]
    }
   ],
   "source": [
    "m3=sum((y-mean1)**3)/100\n",
    "m2=sum((y-mean1)**2)/100\n",
    "sk = m3/(m2**(1.5))\n",
    "print(\"Skewness of total score :\", sk)\n"
   ]
  },
  {
   "cell_type": "markdown",
   "id": "boxed-lyric",
   "metadata": {},
   "source": [
    "Negative value of skewness means that the data is skewed left. By skewed left, we mean that the left tail is long relative to the right tail."
   ]
  },
  {
   "cell_type": "code",
   "execution_count": 20,
   "id": "electric-technique",
   "metadata": {},
   "outputs": [
    {
     "name": "stdout",
     "output_type": "stream",
     "text": [
      "-0.11839527284534905\n"
     ]
    }
   ],
   "source": [
    "med=df['total score'].median()\n",
    "sk = (3*(mean1-med))/sd1\n",
    "print(sk)\n"
   ]
  },
  {
   "cell_type": "markdown",
   "id": "unauthorized-president",
   "metadata": {},
   "source": [
    "Since the value of Pearson's coefficient of skewness is between -0.5 and 0.5, the data is nearly symmetrical."
   ]
  },
  {
   "cell_type": "code",
   "execution_count": 21,
   "id": "attractive-category",
   "metadata": {},
   "outputs": [
    {
     "name": "stdout",
     "output_type": "stream",
     "text": [
      "Kurtosis        :  0.3119220533533359\n",
      "Excess Kurtosis : -2.688077946646664\n"
     ]
    }
   ],
   "source": [
    "m4 = sum((y-mean1)**4)/100\n",
    "kr = m4/(m2**2)\n",
    "print(\"Kurtosis        : \", kr)\n",
    "print(\"Excess Kurtosis :\",kr-3)"
   ]
  },
  {
   "cell_type": "code",
   "execution_count": 22,
   "id": "quiet-polymer",
   "metadata": {},
   "outputs": [
    {
     "name": "stdout",
     "output_type": "stream",
     "text": [
      "Kurtosis        :  0.3119220533533359\n",
      "Excess Kurtosis : -2.688077946646664\n"
     ]
    }
   ],
   "source": [
    "m4 = sum((y-mean1)**4)/100\n",
    "kr = m4/(m2**2)\n",
    "print(\"Kurtosis        : \", kr)\n",
    "print(\"Excess Kurtosis :\",kr-3)"
   ]
  },
  {
   "cell_type": "markdown",
   "id": "complex-settle",
   "metadata": {},
   "source": [
    "Here the value of an excess kurtosis is negative. Hence the distribution is platykurtic. This kind of distribution has a tail that's thinner than a normal distribution."
   ]
  },
  {
   "cell_type": "code",
   "execution_count": 24,
   "id": "about-director",
   "metadata": {},
   "outputs": [
    {
     "data": {
      "text/plain": [
       "Text(0.5, 1.0, 'Student Result')"
      ]
     },
     "execution_count": 24,
     "metadata": {},
     "output_type": "execute_result"
    },
    {
     "data": {
      "image/png": "[encoded data removed]",
      "text/plain": [
       "<Figure size 432x288 with 1 Axes>"
      ]
     },
     "metadata": {
      "needs_background": "light"
     },
     "output_type": "display_data"
    }
   ],
   "source": [
    "x=['0-50', '51-100', '101-150', '151-200','201-250', '250-300']\n",
    " \n",
    "plt.hist(df['total score'],color ='orange', alpha=1,histtype='stepfilled')\n",
    "plt.xlabel(\"Total scores\")\n",
    "plt.ylabel(\"No. of students\")\n",
    "plt.title(\"Student Result\")"
   ]
  },
  {
   "cell_type": "code",
   "execution_count": 25,
   "id": "available-hello",
   "metadata": {},
   "outputs": [
    {
     "data": {
      "text/plain": [
       "Text(0.5, 1.0, 'Race/Ethnicity')"
      ]
     },
     "execution_count": 25,
     "metadata": {},
     "output_type": "execute_result"
    },
    {
     "data": {
      "image/png": "[encoded data removed]",
      "text/plain": [
       "<Figure size 432x288 with 1 Axes>"
      ]
     },
     "metadata": {},
     "output_type": "display_data"
    }
   ],
   "source": [
    "mylabels=['Group C', 'Group D','Group B','Group E','Group A']\n",
    "l1=list(df['race/ethnicity'].value_counts())\n",
    "colors =['orange', 'lavender','skyblue','salmon','lightgreen']\n",
    "plt.pie(l1, labels = mylabels,  shadow = True,startangle = 90, colors=colors,autopct='%1.1f%%')\n",
    "plt.title('Race/Ethnicity') "
   ]
  },
  {
   "cell_type": "code",
   "execution_count": null,
   "id": "attractive-dispatch",
   "metadata": {},
   "outputs": [],
   "source": []
  }
 ],
 "metadata": {
  "kernelspec": {
   "display_name": "Python 3 (ipykernel)",
   "language": "python",
   "name": "python3"
  },
  "language_info": {
   "codemirror_mode": {
    "name": "ipython",
    "version": 3
   },
   "file_extension": ".py",
   "mimetype": "text/x-python",
   "name": "python",
   "nbconvert_exporter": "python",
   "pygments_lexer": "ipython3",
   "version": "3.9.7"
  }
 },
 "nbformat": 4,
 "nbformat_minor": 5
}
